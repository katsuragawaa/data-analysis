{
  "nbformat": 4,
  "nbformat_minor": 0,
  "metadata": {
    "colab": {
      "name": "day71.ipynb",
      "provenance": [],
      "collapsed_sections": [],
      "toc_visible": true
    },
    "kernelspec": {
      "name": "python385jvsc74a57bd0af573f283834de0d94267a2f349eb6a57bfc80fc16df6f4176b3eb1c7a5367fc",
      "display_name": "Python 3.8.5 64-bit (conda)"
    },
    "language_info": {
      "name": "python",
      "version": "3.8.5-final"
    }
  },
  "cells": [
    {
      "cell_type": "code",
      "metadata": {
        "id": "Sr7t64tOiHcG",
        "colab": {
          "base_uri": "https://localhost:8080/",
          "height": 204
        },
        "outputId": "91f8df07-d0a4-418e-8cec-7e660d0ecdd7"
      },
      "source": [
        "import pandas as pd\n",
        "\n",
        "df = pd.read_csv('salaries_by_college_major.csv')\n",
        "df.shape\n",
        "pd.options.display.float_format = '{:,.2f}'.format\n"
      ],
      "execution_count": 45,
      "outputs": []
    },
    {
      "cell_type": "code",
      "execution_count": 46,
      "metadata": {},
      "outputs": [
        {
          "output_type": "execute_result",
          "data": {
            "text/plain": [
              "    Undergraduate Major  ...  Group\n",
              "0                 False  ...  False\n",
              "1                 False  ...  False\n",
              "2                 False  ...  False\n",
              "3                 False  ...  False\n",
              "4                 False  ...  False\n",
              "5                 False  ...  False\n",
              "6                 False  ...  False\n",
              "7                 False  ...  False\n",
              "8                 False  ...  False\n",
              "9                 False  ...  False\n",
              "10                False  ...  False\n",
              "11                False  ...  False\n",
              "12                False  ...  False\n",
              "13                False  ...  False\n",
              "14                False  ...  False\n",
              "15                False  ...  False\n",
              "16                False  ...  False\n",
              "17                False  ...  False\n",
              "18                False  ...  False\n",
              "19                False  ...  False\n",
              "20                False  ...  False\n",
              "21                False  ...  False\n",
              "22                False  ...  False\n",
              "23                False  ...  False\n",
              "24                False  ...  False\n",
              "25                False  ...  False\n",
              "26                False  ...  False\n",
              "27                False  ...  False\n",
              "28                False  ...  False\n",
              "29                False  ...  False\n",
              "30                False  ...  False\n",
              "31                False  ...  False\n",
              "32                False  ...  False\n",
              "33                False  ...  False\n",
              "34                False  ...  False\n",
              "35                False  ...  False\n",
              "36                False  ...  False\n",
              "37                False  ...  False\n",
              "38                False  ...  False\n",
              "39                False  ...  False\n",
              "40                False  ...  False\n",
              "41                False  ...  False\n",
              "42                False  ...  False\n",
              "43                False  ...  False\n",
              "44                False  ...  False\n",
              "45                False  ...  False\n",
              "46                False  ...  False\n",
              "47                False  ...  False\n",
              "48                False  ...  False\n",
              "49                False  ...  False\n",
              "50                False  ...   True\n",
              "\n",
              "[51 rows x 6 columns]"
            ],
            "text/html": "<div>\n<style scoped>\n    .dataframe tbody tr th:only-of-type {\n        vertical-align: middle;\n    }\n\n    .dataframe tbody tr th {\n        vertical-align: top;\n    }\n\n    .dataframe thead th {\n        text-align: right;\n    }\n</style>\n<table border=\"1\" class=\"dataframe\">\n  <thead>\n    <tr style=\"text-align: right;\">\n      <th></th>\n      <th>Undergraduate Major</th>\n      <th>Starting Median Salary</th>\n      <th>Mid-Career Median Salary</th>\n      <th>Mid-Career 10th Percentile Salary</th>\n      <th>Mid-Career 90th Percentile Salary</th>\n      <th>Group</th>\n    </tr>\n  </thead>\n  <tbody>\n    <tr>\n      <th>0</th>\n      <td>False</td>\n      <td>False</td>\n      <td>False</td>\n      <td>False</td>\n      <td>False</td>\n      <td>False</td>\n    </tr>\n    <tr>\n      <th>1</th>\n      <td>False</td>\n      <td>False</td>\n      <td>False</td>\n      <td>False</td>\n      <td>False</td>\n      <td>False</td>\n    </tr>\n    <tr>\n      <th>2</th>\n      <td>False</td>\n      <td>False</td>\n      <td>False</td>\n      <td>False</td>\n      <td>False</td>\n      <td>False</td>\n    </tr>\n    <tr>\n      <th>3</th>\n      <td>False</td>\n      <td>False</td>\n      <td>False</td>\n      <td>False</td>\n      <td>False</td>\n      <td>False</td>\n    </tr>\n    <tr>\n      <th>4</th>\n      <td>False</td>\n      <td>False</td>\n      <td>False</td>\n      <td>False</td>\n      <td>False</td>\n      <td>False</td>\n    </tr>\n    <tr>\n      <th>5</th>\n      <td>False</td>\n      <td>False</td>\n      <td>False</td>\n      <td>False</td>\n      <td>False</td>\n      <td>False</td>\n    </tr>\n    <tr>\n      <th>6</th>\n      <td>False</td>\n      <td>False</td>\n      <td>False</td>\n      <td>False</td>\n      <td>False</td>\n      <td>False</td>\n    </tr>\n    <tr>\n      <th>7</th>\n      <td>False</td>\n      <td>False</td>\n      <td>False</td>\n      <td>False</td>\n      <td>False</td>\n      <td>False</td>\n    </tr>\n    <tr>\n      <th>8</th>\n      <td>False</td>\n      <td>False</td>\n      <td>False</td>\n      <td>False</td>\n      <td>False</td>\n      <td>False</td>\n    </tr>\n    <tr>\n      <th>9</th>\n      <td>False</td>\n      <td>False</td>\n      <td>False</td>\n      <td>False</td>\n      <td>False</td>\n      <td>False</td>\n    </tr>\n    <tr>\n      <th>10</th>\n      <td>False</td>\n      <td>False</td>\n      <td>False</td>\n      <td>False</td>\n      <td>False</td>\n      <td>False</td>\n    </tr>\n    <tr>\n      <th>11</th>\n      <td>False</td>\n      <td>False</td>\n      <td>False</td>\n      <td>False</td>\n      <td>False</td>\n      <td>False</td>\n    </tr>\n    <tr>\n      <th>12</th>\n      <td>False</td>\n      <td>False</td>\n      <td>False</td>\n      <td>False</td>\n      <td>False</td>\n      <td>False</td>\n    </tr>\n    <tr>\n      <th>13</th>\n      <td>False</td>\n      <td>False</td>\n      <td>False</td>\n      <td>False</td>\n      <td>False</td>\n      <td>False</td>\n    </tr>\n    <tr>\n      <th>14</th>\n      <td>False</td>\n      <td>False</td>\n      <td>False</td>\n      <td>False</td>\n      <td>False</td>\n      <td>False</td>\n    </tr>\n    <tr>\n      <th>15</th>\n      <td>False</td>\n      <td>False</td>\n      <td>False</td>\n      <td>False</td>\n      <td>False</td>\n      <td>False</td>\n    </tr>\n    <tr>\n      <th>16</th>\n      <td>False</td>\n      <td>False</td>\n      <td>False</td>\n      <td>False</td>\n      <td>False</td>\n      <td>False</td>\n    </tr>\n    <tr>\n      <th>17</th>\n      <td>False</td>\n      <td>False</td>\n      <td>False</td>\n      <td>False</td>\n      <td>False</td>\n      <td>False</td>\n    </tr>\n    <tr>\n      <th>18</th>\n      <td>False</td>\n      <td>False</td>\n      <td>False</td>\n      <td>False</td>\n      <td>False</td>\n      <td>False</td>\n    </tr>\n    <tr>\n      <th>19</th>\n      <td>False</td>\n      <td>False</td>\n      <td>False</td>\n      <td>False</td>\n      <td>False</td>\n      <td>False</td>\n    </tr>\n    <tr>\n      <th>20</th>\n      <td>False</td>\n      <td>False</td>\n      <td>False</td>\n      <td>False</td>\n      <td>False</td>\n      <td>False</td>\n    </tr>\n    <tr>\n      <th>21</th>\n      <td>False</td>\n      <td>False</td>\n      <td>False</td>\n      <td>False</td>\n      <td>False</td>\n      <td>False</td>\n    </tr>\n    <tr>\n      <th>22</th>\n      <td>False</td>\n      <td>False</td>\n      <td>False</td>\n      <td>False</td>\n      <td>False</td>\n      <td>False</td>\n    </tr>\n    <tr>\n      <th>23</th>\n      <td>False</td>\n      <td>False</td>\n      <td>False</td>\n      <td>False</td>\n      <td>False</td>\n      <td>False</td>\n    </tr>\n    <tr>\n      <th>24</th>\n      <td>False</td>\n      <td>False</td>\n      <td>False</td>\n      <td>False</td>\n      <td>False</td>\n      <td>False</td>\n    </tr>\n    <tr>\n      <th>25</th>\n      <td>False</td>\n      <td>False</td>\n      <td>False</td>\n      <td>False</td>\n      <td>False</td>\n      <td>False</td>\n    </tr>\n    <tr>\n      <th>26</th>\n      <td>False</td>\n      <td>False</td>\n      <td>False</td>\n      <td>False</td>\n      <td>False</td>\n      <td>False</td>\n    </tr>\n    <tr>\n      <th>27</th>\n      <td>False</td>\n      <td>False</td>\n      <td>False</td>\n      <td>False</td>\n      <td>False</td>\n      <td>False</td>\n    </tr>\n    <tr>\n      <th>28</th>\n      <td>False</td>\n      <td>False</td>\n      <td>False</td>\n      <td>False</td>\n      <td>False</td>\n      <td>False</td>\n    </tr>\n    <tr>\n      <th>29</th>\n      <td>False</td>\n      <td>False</td>\n      <td>False</td>\n      <td>False</td>\n      <td>False</td>\n      <td>False</td>\n    </tr>\n    <tr>\n      <th>30</th>\n      <td>False</td>\n      <td>False</td>\n      <td>False</td>\n      <td>False</td>\n      <td>False</td>\n      <td>False</td>\n    </tr>\n    <tr>\n      <th>31</th>\n      <td>False</td>\n      <td>False</td>\n      <td>False</td>\n      <td>False</td>\n      <td>False</td>\n      <td>False</td>\n    </tr>\n    <tr>\n      <th>32</th>\n      <td>False</td>\n      <td>False</td>\n      <td>False</td>\n      <td>False</td>\n      <td>False</td>\n      <td>False</td>\n    </tr>\n    <tr>\n      <th>33</th>\n      <td>False</td>\n      <td>False</td>\n      <td>False</td>\n      <td>False</td>\n      <td>False</td>\n      <td>False</td>\n    </tr>\n    <tr>\n      <th>34</th>\n      <td>False</td>\n      <td>False</td>\n      <td>False</td>\n      <td>False</td>\n      <td>False</td>\n      <td>False</td>\n    </tr>\n    <tr>\n      <th>35</th>\n      <td>False</td>\n      <td>False</td>\n      <td>False</td>\n      <td>False</td>\n      <td>False</td>\n      <td>False</td>\n    </tr>\n    <tr>\n      <th>36</th>\n      <td>False</td>\n      <td>False</td>\n      <td>False</td>\n      <td>False</td>\n      <td>False</td>\n      <td>False</td>\n    </tr>\n    <tr>\n      <th>37</th>\n      <td>False</td>\n      <td>False</td>\n      <td>False</td>\n      <td>False</td>\n      <td>False</td>\n      <td>False</td>\n    </tr>\n    <tr>\n      <th>38</th>\n      <td>False</td>\n      <td>False</td>\n      <td>False</td>\n      <td>False</td>\n      <td>False</td>\n      <td>False</td>\n    </tr>\n    <tr>\n      <th>39</th>\n      <td>False</td>\n      <td>False</td>\n      <td>False</td>\n      <td>False</td>\n      <td>False</td>\n      <td>False</td>\n    </tr>\n    <tr>\n      <th>40</th>\n      <td>False</td>\n      <td>False</td>\n      <td>False</td>\n      <td>False</td>\n      <td>False</td>\n      <td>False</td>\n    </tr>\n    <tr>\n      <th>41</th>\n      <td>False</td>\n      <td>False</td>\n      <td>False</td>\n      <td>False</td>\n      <td>False</td>\n      <td>False</td>\n    </tr>\n    <tr>\n      <th>42</th>\n      <td>False</td>\n      <td>False</td>\n      <td>False</td>\n      <td>False</td>\n      <td>False</td>\n      <td>False</td>\n    </tr>\n    <tr>\n      <th>43</th>\n      <td>False</td>\n      <td>False</td>\n      <td>False</td>\n      <td>False</td>\n      <td>False</td>\n      <td>False</td>\n    </tr>\n    <tr>\n      <th>44</th>\n      <td>False</td>\n      <td>False</td>\n      <td>False</td>\n      <td>False</td>\n      <td>False</td>\n      <td>False</td>\n    </tr>\n    <tr>\n      <th>45</th>\n      <td>False</td>\n      <td>False</td>\n      <td>False</td>\n      <td>False</td>\n      <td>False</td>\n      <td>False</td>\n    </tr>\n    <tr>\n      <th>46</th>\n      <td>False</td>\n      <td>False</td>\n      <td>False</td>\n      <td>False</td>\n      <td>False</td>\n      <td>False</td>\n    </tr>\n    <tr>\n      <th>47</th>\n      <td>False</td>\n      <td>False</td>\n      <td>False</td>\n      <td>False</td>\n      <td>False</td>\n      <td>False</td>\n    </tr>\n    <tr>\n      <th>48</th>\n      <td>False</td>\n      <td>False</td>\n      <td>False</td>\n      <td>False</td>\n      <td>False</td>\n      <td>False</td>\n    </tr>\n    <tr>\n      <th>49</th>\n      <td>False</td>\n      <td>False</td>\n      <td>False</td>\n      <td>False</td>\n      <td>False</td>\n      <td>False</td>\n    </tr>\n    <tr>\n      <th>50</th>\n      <td>False</td>\n      <td>True</td>\n      <td>True</td>\n      <td>True</td>\n      <td>True</td>\n      <td>True</td>\n    </tr>\n  </tbody>\n</table>\n</div>"
          },
          "metadata": {},
          "execution_count": 46
        }
      ],
      "source": [
        "df.isna()"
      ]
    },
    {
      "cell_type": "code",
      "execution_count": 47,
      "metadata": {},
      "outputs": [
        {
          "output_type": "execute_result",
          "data": {
            "text/plain": [
              "      Undergraduate Major  ...  Group\n",
              "46             Psychology  ...   HASS\n",
              "47               Religion  ...   HASS\n",
              "48              Sociology  ...   HASS\n",
              "49                Spanish  ...   HASS\n",
              "50  Source: PayScale Inc.  ...    NaN\n",
              "\n",
              "[5 rows x 6 columns]"
            ],
            "text/html": "<div>\n<style scoped>\n    .dataframe tbody tr th:only-of-type {\n        vertical-align: middle;\n    }\n\n    .dataframe tbody tr th {\n        vertical-align: top;\n    }\n\n    .dataframe thead th {\n        text-align: right;\n    }\n</style>\n<table border=\"1\" class=\"dataframe\">\n  <thead>\n    <tr style=\"text-align: right;\">\n      <th></th>\n      <th>Undergraduate Major</th>\n      <th>Starting Median Salary</th>\n      <th>Mid-Career Median Salary</th>\n      <th>Mid-Career 10th Percentile Salary</th>\n      <th>Mid-Career 90th Percentile Salary</th>\n      <th>Group</th>\n    </tr>\n  </thead>\n  <tbody>\n    <tr>\n      <th>46</th>\n      <td>Psychology</td>\n      <td>35,900.00</td>\n      <td>60,400.00</td>\n      <td>31,600.00</td>\n      <td>127,000.00</td>\n      <td>HASS</td>\n    </tr>\n    <tr>\n      <th>47</th>\n      <td>Religion</td>\n      <td>34,100.00</td>\n      <td>52,000.00</td>\n      <td>29,700.00</td>\n      <td>96,400.00</td>\n      <td>HASS</td>\n    </tr>\n    <tr>\n      <th>48</th>\n      <td>Sociology</td>\n      <td>36,500.00</td>\n      <td>58,200.00</td>\n      <td>30,700.00</td>\n      <td>118,000.00</td>\n      <td>HASS</td>\n    </tr>\n    <tr>\n      <th>49</th>\n      <td>Spanish</td>\n      <td>34,000.00</td>\n      <td>53,100.00</td>\n      <td>31,000.00</td>\n      <td>96,400.00</td>\n      <td>HASS</td>\n    </tr>\n    <tr>\n      <th>50</th>\n      <td>Source: PayScale Inc.</td>\n      <td>nan</td>\n      <td>nan</td>\n      <td>nan</td>\n      <td>nan</td>\n      <td>NaN</td>\n    </tr>\n  </tbody>\n</table>\n</div>"
          },
          "metadata": {},
          "execution_count": 47
        }
      ],
      "source": [
        "df.tail()"
      ]
    },
    {
      "cell_type": "code",
      "execution_count": 48,
      "metadata": {},
      "outputs": [
        {
          "output_type": "execute_result",
          "data": {
            "text/plain": [
              "                     Undergraduate Major  ...     Group\n",
              "0                             Accounting  ...  Business\n",
              "1                  Aerospace Engineering  ...      STEM\n",
              "2                            Agriculture  ...  Business\n",
              "3                           Anthropology  ...      HASS\n",
              "4                           Architecture  ...  Business\n",
              "5                            Art History  ...      HASS\n",
              "6                                Biology  ...      STEM\n",
              "7                    Business Management  ...  Business\n",
              "8                   Chemical Engineering  ...      STEM\n",
              "9                              Chemistry  ...      STEM\n",
              "10                     Civil Engineering  ...      STEM\n",
              "11                        Communications  ...      HASS\n",
              "12                  Computer Engineering  ...      STEM\n",
              "13                      Computer Science  ...      STEM\n",
              "14                          Construction  ...  Business\n",
              "15                      Criminal Justice  ...      HASS\n",
              "16                                 Drama  ...      HASS\n",
              "17                             Economics  ...  Business\n",
              "18                             Education  ...      HASS\n",
              "19                Electrical Engineering  ...      STEM\n",
              "20                               English  ...      HASS\n",
              "21                                  Film  ...      HASS\n",
              "22                               Finance  ...  Business\n",
              "23                              Forestry  ...  Business\n",
              "24                             Geography  ...      HASS\n",
              "25                               Geology  ...      STEM\n",
              "26                        Graphic Design  ...      HASS\n",
              "27            Health Care Administration  ...  Business\n",
              "28                               History  ...      HASS\n",
              "29                 Hospitality & Tourism  ...  Business\n",
              "30                Industrial Engineering  ...      STEM\n",
              "31           Information Technology (IT)  ...      STEM\n",
              "32                       Interior Design  ...      HASS\n",
              "33               International Relations  ...      HASS\n",
              "34                            Journalism  ...      HASS\n",
              "35  Management Information Systems (MIS)  ...      STEM\n",
              "36                             Marketing  ...  Business\n",
              "37                                  Math  ...      STEM\n",
              "38                Mechanical Engineering  ...      STEM\n",
              "39                                 Music  ...      HASS\n",
              "40                               Nursing  ...  Business\n",
              "41                             Nutrition  ...      HASS\n",
              "42                            Philosophy  ...      HASS\n",
              "43                   Physician Assistant  ...      STEM\n",
              "44                               Physics  ...      STEM\n",
              "45                     Political Science  ...      HASS\n",
              "46                            Psychology  ...      HASS\n",
              "47                              Religion  ...      HASS\n",
              "48                             Sociology  ...      HASS\n",
              "49                               Spanish  ...      HASS\n",
              "\n",
              "[50 rows x 6 columns]"
            ],
            "text/html": "<div>\n<style scoped>\n    .dataframe tbody tr th:only-of-type {\n        vertical-align: middle;\n    }\n\n    .dataframe tbody tr th {\n        vertical-align: top;\n    }\n\n    .dataframe thead th {\n        text-align: right;\n    }\n</style>\n<table border=\"1\" class=\"dataframe\">\n  <thead>\n    <tr style=\"text-align: right;\">\n      <th></th>\n      <th>Undergraduate Major</th>\n      <th>Starting Median Salary</th>\n      <th>Mid-Career Median Salary</th>\n      <th>Mid-Career 10th Percentile Salary</th>\n      <th>Mid-Career 90th Percentile Salary</th>\n      <th>Group</th>\n    </tr>\n  </thead>\n  <tbody>\n    <tr>\n      <th>0</th>\n      <td>Accounting</td>\n      <td>46,000.00</td>\n      <td>77,100.00</td>\n      <td>42,200.00</td>\n      <td>152,000.00</td>\n      <td>Business</td>\n    </tr>\n    <tr>\n      <th>1</th>\n      <td>Aerospace Engineering</td>\n      <td>57,700.00</td>\n      <td>101,000.00</td>\n      <td>64,300.00</td>\n      <td>161,000.00</td>\n      <td>STEM</td>\n    </tr>\n    <tr>\n      <th>2</th>\n      <td>Agriculture</td>\n      <td>42,600.00</td>\n      <td>71,900.00</td>\n      <td>36,300.00</td>\n      <td>150,000.00</td>\n      <td>Business</td>\n    </tr>\n    <tr>\n      <th>3</th>\n      <td>Anthropology</td>\n      <td>36,800.00</td>\n      <td>61,500.00</td>\n      <td>33,800.00</td>\n      <td>138,000.00</td>\n      <td>HASS</td>\n    </tr>\n    <tr>\n      <th>4</th>\n      <td>Architecture</td>\n      <td>41,600.00</td>\n      <td>76,800.00</td>\n      <td>50,600.00</td>\n      <td>136,000.00</td>\n      <td>Business</td>\n    </tr>\n    <tr>\n      <th>5</th>\n      <td>Art History</td>\n      <td>35,800.00</td>\n      <td>64,900.00</td>\n      <td>28,800.00</td>\n      <td>125,000.00</td>\n      <td>HASS</td>\n    </tr>\n    <tr>\n      <th>6</th>\n      <td>Biology</td>\n      <td>38,800.00</td>\n      <td>64,800.00</td>\n      <td>36,900.00</td>\n      <td>135,000.00</td>\n      <td>STEM</td>\n    </tr>\n    <tr>\n      <th>7</th>\n      <td>Business Management</td>\n      <td>43,000.00</td>\n      <td>72,100.00</td>\n      <td>38,800.00</td>\n      <td>147,000.00</td>\n      <td>Business</td>\n    </tr>\n    <tr>\n      <th>8</th>\n      <td>Chemical Engineering</td>\n      <td>63,200.00</td>\n      <td>107,000.00</td>\n      <td>71,900.00</td>\n      <td>194,000.00</td>\n      <td>STEM</td>\n    </tr>\n    <tr>\n      <th>9</th>\n      <td>Chemistry</td>\n      <td>42,600.00</td>\n      <td>79,900.00</td>\n      <td>45,300.00</td>\n      <td>148,000.00</td>\n      <td>STEM</td>\n    </tr>\n    <tr>\n      <th>10</th>\n      <td>Civil Engineering</td>\n      <td>53,900.00</td>\n      <td>90,500.00</td>\n      <td>63,400.00</td>\n      <td>148,000.00</td>\n      <td>STEM</td>\n    </tr>\n    <tr>\n      <th>11</th>\n      <td>Communications</td>\n      <td>38,100.00</td>\n      <td>70,000.00</td>\n      <td>37,500.00</td>\n      <td>143,000.00</td>\n      <td>HASS</td>\n    </tr>\n    <tr>\n      <th>12</th>\n      <td>Computer Engineering</td>\n      <td>61,400.00</td>\n      <td>105,000.00</td>\n      <td>66,100.00</td>\n      <td>162,000.00</td>\n      <td>STEM</td>\n    </tr>\n    <tr>\n      <th>13</th>\n      <td>Computer Science</td>\n      <td>55,900.00</td>\n      <td>95,500.00</td>\n      <td>56,000.00</td>\n      <td>154,000.00</td>\n      <td>STEM</td>\n    </tr>\n    <tr>\n      <th>14</th>\n      <td>Construction</td>\n      <td>53,700.00</td>\n      <td>88,900.00</td>\n      <td>56,300.00</td>\n      <td>171,000.00</td>\n      <td>Business</td>\n    </tr>\n    <tr>\n      <th>15</th>\n      <td>Criminal Justice</td>\n      <td>35,000.00</td>\n      <td>56,300.00</td>\n      <td>32,200.00</td>\n      <td>107,000.00</td>\n      <td>HASS</td>\n    </tr>\n    <tr>\n      <th>16</th>\n      <td>Drama</td>\n      <td>35,900.00</td>\n      <td>56,900.00</td>\n      <td>36,700.00</td>\n      <td>153,000.00</td>\n      <td>HASS</td>\n    </tr>\n    <tr>\n      <th>17</th>\n      <td>Economics</td>\n      <td>50,100.00</td>\n      <td>98,600.00</td>\n      <td>50,600.00</td>\n      <td>210,000.00</td>\n      <td>Business</td>\n    </tr>\n    <tr>\n      <th>18</th>\n      <td>Education</td>\n      <td>34,900.00</td>\n      <td>52,000.00</td>\n      <td>29,300.00</td>\n      <td>102,000.00</td>\n      <td>HASS</td>\n    </tr>\n    <tr>\n      <th>19</th>\n      <td>Electrical Engineering</td>\n      <td>60,900.00</td>\n      <td>103,000.00</td>\n      <td>69,300.00</td>\n      <td>168,000.00</td>\n      <td>STEM</td>\n    </tr>\n    <tr>\n      <th>20</th>\n      <td>English</td>\n      <td>38,000.00</td>\n      <td>64,700.00</td>\n      <td>33,400.00</td>\n      <td>133,000.00</td>\n      <td>HASS</td>\n    </tr>\n    <tr>\n      <th>21</th>\n      <td>Film</td>\n      <td>37,900.00</td>\n      <td>68,500.00</td>\n      <td>33,900.00</td>\n      <td>136,000.00</td>\n      <td>HASS</td>\n    </tr>\n    <tr>\n      <th>22</th>\n      <td>Finance</td>\n      <td>47,900.00</td>\n      <td>88,300.00</td>\n      <td>47,200.00</td>\n      <td>195,000.00</td>\n      <td>Business</td>\n    </tr>\n    <tr>\n      <th>23</th>\n      <td>Forestry</td>\n      <td>39,100.00</td>\n      <td>62,600.00</td>\n      <td>41,000.00</td>\n      <td>111,000.00</td>\n      <td>Business</td>\n    </tr>\n    <tr>\n      <th>24</th>\n      <td>Geography</td>\n      <td>41,200.00</td>\n      <td>65,500.00</td>\n      <td>40,000.00</td>\n      <td>132,000.00</td>\n      <td>HASS</td>\n    </tr>\n    <tr>\n      <th>25</th>\n      <td>Geology</td>\n      <td>43,500.00</td>\n      <td>79,500.00</td>\n      <td>45,000.00</td>\n      <td>156,000.00</td>\n      <td>STEM</td>\n    </tr>\n    <tr>\n      <th>26</th>\n      <td>Graphic Design</td>\n      <td>35,700.00</td>\n      <td>59,800.00</td>\n      <td>36,000.00</td>\n      <td>112,000.00</td>\n      <td>HASS</td>\n    </tr>\n    <tr>\n      <th>27</th>\n      <td>Health Care Administration</td>\n      <td>38,800.00</td>\n      <td>60,600.00</td>\n      <td>34,600.00</td>\n      <td>101,000.00</td>\n      <td>Business</td>\n    </tr>\n    <tr>\n      <th>28</th>\n      <td>History</td>\n      <td>39,200.00</td>\n      <td>71,000.00</td>\n      <td>37,000.00</td>\n      <td>149,000.00</td>\n      <td>HASS</td>\n    </tr>\n    <tr>\n      <th>29</th>\n      <td>Hospitality &amp; Tourism</td>\n      <td>37,800.00</td>\n      <td>57,500.00</td>\n      <td>35,500.00</td>\n      <td>124,000.00</td>\n      <td>Business</td>\n    </tr>\n    <tr>\n      <th>30</th>\n      <td>Industrial Engineering</td>\n      <td>57,700.00</td>\n      <td>94,700.00</td>\n      <td>57,100.00</td>\n      <td>173,000.00</td>\n      <td>STEM</td>\n    </tr>\n    <tr>\n      <th>31</th>\n      <td>Information Technology (IT)</td>\n      <td>49,100.00</td>\n      <td>74,800.00</td>\n      <td>44,500.00</td>\n      <td>129,000.00</td>\n      <td>STEM</td>\n    </tr>\n    <tr>\n      <th>32</th>\n      <td>Interior Design</td>\n      <td>36,100.00</td>\n      <td>53,200.00</td>\n      <td>35,700.00</td>\n      <td>107,000.00</td>\n      <td>HASS</td>\n    </tr>\n    <tr>\n      <th>33</th>\n      <td>International Relations</td>\n      <td>40,900.00</td>\n      <td>80,900.00</td>\n      <td>38,200.00</td>\n      <td>157,000.00</td>\n      <td>HASS</td>\n    </tr>\n    <tr>\n      <th>34</th>\n      <td>Journalism</td>\n      <td>35,600.00</td>\n      <td>66,700.00</td>\n      <td>38,400.00</td>\n      <td>145,000.00</td>\n      <td>HASS</td>\n    </tr>\n    <tr>\n      <th>35</th>\n      <td>Management Information Systems (MIS)</td>\n      <td>49,200.00</td>\n      <td>82,300.00</td>\n      <td>45,300.00</td>\n      <td>146,000.00</td>\n      <td>STEM</td>\n    </tr>\n    <tr>\n      <th>36</th>\n      <td>Marketing</td>\n      <td>40,800.00</td>\n      <td>79,600.00</td>\n      <td>42,100.00</td>\n      <td>175,000.00</td>\n      <td>Business</td>\n    </tr>\n    <tr>\n      <th>37</th>\n      <td>Math</td>\n      <td>45,400.00</td>\n      <td>92,400.00</td>\n      <td>45,200.00</td>\n      <td>183,000.00</td>\n      <td>STEM</td>\n    </tr>\n    <tr>\n      <th>38</th>\n      <td>Mechanical Engineering</td>\n      <td>57,900.00</td>\n      <td>93,600.00</td>\n      <td>63,700.00</td>\n      <td>163,000.00</td>\n      <td>STEM</td>\n    </tr>\n    <tr>\n      <th>39</th>\n      <td>Music</td>\n      <td>35,900.00</td>\n      <td>55,000.00</td>\n      <td>26,700.00</td>\n      <td>134,000.00</td>\n      <td>HASS</td>\n    </tr>\n    <tr>\n      <th>40</th>\n      <td>Nursing</td>\n      <td>54,200.00</td>\n      <td>67,000.00</td>\n      <td>47,600.00</td>\n      <td>98,300.00</td>\n      <td>Business</td>\n    </tr>\n    <tr>\n      <th>41</th>\n      <td>Nutrition</td>\n      <td>39,900.00</td>\n      <td>55,300.00</td>\n      <td>33,900.00</td>\n      <td>99,200.00</td>\n      <td>HASS</td>\n    </tr>\n    <tr>\n      <th>42</th>\n      <td>Philosophy</td>\n      <td>39,900.00</td>\n      <td>81,200.00</td>\n      <td>35,500.00</td>\n      <td>168,000.00</td>\n      <td>HASS</td>\n    </tr>\n    <tr>\n      <th>43</th>\n      <td>Physician Assistant</td>\n      <td>74,300.00</td>\n      <td>91,700.00</td>\n      <td>66,400.00</td>\n      <td>124,000.00</td>\n      <td>STEM</td>\n    </tr>\n    <tr>\n      <th>44</th>\n      <td>Physics</td>\n      <td>50,300.00</td>\n      <td>97,300.00</td>\n      <td>56,000.00</td>\n      <td>178,000.00</td>\n      <td>STEM</td>\n    </tr>\n    <tr>\n      <th>45</th>\n      <td>Political Science</td>\n      <td>40,800.00</td>\n      <td>78,200.00</td>\n      <td>41,200.00</td>\n      <td>168,000.00</td>\n      <td>HASS</td>\n    </tr>\n    <tr>\n      <th>46</th>\n      <td>Psychology</td>\n      <td>35,900.00</td>\n      <td>60,400.00</td>\n      <td>31,600.00</td>\n      <td>127,000.00</td>\n      <td>HASS</td>\n    </tr>\n    <tr>\n      <th>47</th>\n      <td>Religion</td>\n      <td>34,100.00</td>\n      <td>52,000.00</td>\n      <td>29,700.00</td>\n      <td>96,400.00</td>\n      <td>HASS</td>\n    </tr>\n    <tr>\n      <th>48</th>\n      <td>Sociology</td>\n      <td>36,500.00</td>\n      <td>58,200.00</td>\n      <td>30,700.00</td>\n      <td>118,000.00</td>\n      <td>HASS</td>\n    </tr>\n    <tr>\n      <th>49</th>\n      <td>Spanish</td>\n      <td>34,000.00</td>\n      <td>53,100.00</td>\n      <td>31,000.00</td>\n      <td>96,400.00</td>\n      <td>HASS</td>\n    </tr>\n  </tbody>\n</table>\n</div>"
          },
          "metadata": {},
          "execution_count": 48
        }
      ],
      "source": [
        "clean_df = df.dropna()\n",
        "clean_df"
      ]
    },
    {
      "cell_type": "code",
      "execution_count": 49,
      "metadata": {},
      "outputs": [
        {
          "output_type": "execute_result",
          "data": {
            "text/plain": [
              "74300.0"
            ]
          },
          "metadata": {},
          "execution_count": 49
        }
      ],
      "source": [
        "clean_df[\"Starting Median Salary\"].max()"
      ]
    },
    {
      "cell_type": "code",
      "execution_count": 50,
      "metadata": {},
      "outputs": [
        {
          "output_type": "execute_result",
          "data": {
            "text/plain": [
              "43"
            ]
          },
          "metadata": {},
          "execution_count": 50
        }
      ],
      "source": [
        "clean_df[\"Starting Median Salary\"].idxmax()"
      ]
    },
    {
      "cell_type": "code",
      "execution_count": 51,
      "metadata": {},
      "outputs": [
        {
          "output_type": "execute_result",
          "data": {
            "text/plain": [
              "Undergraduate Major                  Physician Assistant\n",
              "Starting Median Salary                         74,300.00\n",
              "Mid-Career Median Salary                       91,700.00\n",
              "Mid-Career 10th Percentile Salary              66,400.00\n",
              "Mid-Career 90th Percentile Salary             124,000.00\n",
              "Group                                               STEM\n",
              "Name: 43, dtype: object"
            ]
          },
          "metadata": {},
          "execution_count": 51
        }
      ],
      "source": [
        "clean_df.loc[43]"
      ]
    },
    {
      "cell_type": "code",
      "execution_count": 52,
      "metadata": {},
      "outputs": [
        {
          "output_type": "execute_result",
          "data": {
            "text/plain": [
              "Undergraduate Major                  Chemical Engineering\n",
              "Starting Median Salary                          63,200.00\n",
              "Mid-Career Median Salary                       107,000.00\n",
              "Mid-Career 10th Percentile Salary               71,900.00\n",
              "Mid-Career 90th Percentile Salary              194,000.00\n",
              "Group                                                STEM\n",
              "Name: 8, dtype: object"
            ]
          },
          "metadata": {},
          "execution_count": 52
        }
      ],
      "source": [
        "max_salary_id = clean_df['Mid-Career Median Salary'].idxmax()\n",
        "clean_df.loc[max_salary_id]"
      ]
    },
    {
      "cell_type": "code",
      "execution_count": 53,
      "metadata": {},
      "outputs": [
        {
          "output_type": "execute_result",
          "data": {
            "text/plain": [
              "Undergraduate Major                   Spanish\n",
              "Starting Median Salary              34,000.00\n",
              "Mid-Career Median Salary            53,100.00\n",
              "Mid-Career 10th Percentile Salary   31,000.00\n",
              "Mid-Career 90th Percentile Salary   96,400.00\n",
              "Group                                    HASS\n",
              "Name: 49, dtype: object"
            ]
          },
          "metadata": {},
          "execution_count": 53
        }
      ],
      "source": [
        "low_start_salary_id = clean_df['Starting Median Salary'].idxmin()\n",
        "clean_df.loc[low_start_salary_id]"
      ]
    },
    {
      "cell_type": "code",
      "execution_count": 54,
      "metadata": {},
      "outputs": [
        {
          "output_type": "execute_result",
          "data": {
            "text/plain": [
              "Undergraduate Major                  Education\n",
              "Starting Median Salary               34,900.00\n",
              "Mid-Career Median Salary             52,000.00\n",
              "Mid-Career 10th Percentile Salary    29,300.00\n",
              "Mid-Career 90th Percentile Salary   102,000.00\n",
              "Group                                     HASS\n",
              "Name: 18, dtype: object"
            ]
          },
          "metadata": {},
          "execution_count": 54
        }
      ],
      "source": [
        "min_salary_id = clean_df['Mid-Career Median Salary'].idxmin()\n",
        "clean_df.loc[min_salary_id]"
      ]
    },
    {
      "cell_type": "code",
      "execution_count": 55,
      "metadata": {},
      "outputs": [],
      "source": [
        "spread_col = clean_df[\"Mid-Career 90th Percentile Salary\"].subtract(clean_df[\"Mid-Career 10th Percentile Salary\"])\n",
        "clean_df.insert(5, 'Spread', spread_col)"
      ]
    },
    {
      "cell_type": "code",
      "execution_count": 56,
      "metadata": {},
      "outputs": [
        {
          "output_type": "execute_result",
          "data": {
            "text/plain": [
              "                     Undergraduate Major  ...     Group\n",
              "0                             Accounting  ...  Business\n",
              "1                  Aerospace Engineering  ...      STEM\n",
              "2                            Agriculture  ...  Business\n",
              "3                           Anthropology  ...      HASS\n",
              "4                           Architecture  ...  Business\n",
              "5                            Art History  ...      HASS\n",
              "6                                Biology  ...      STEM\n",
              "7                    Business Management  ...  Business\n",
              "8                   Chemical Engineering  ...      STEM\n",
              "9                              Chemistry  ...      STEM\n",
              "10                     Civil Engineering  ...      STEM\n",
              "11                        Communications  ...      HASS\n",
              "12                  Computer Engineering  ...      STEM\n",
              "13                      Computer Science  ...      STEM\n",
              "14                          Construction  ...  Business\n",
              "15                      Criminal Justice  ...      HASS\n",
              "16                                 Drama  ...      HASS\n",
              "17                             Economics  ...  Business\n",
              "18                             Education  ...      HASS\n",
              "19                Electrical Engineering  ...      STEM\n",
              "20                               English  ...      HASS\n",
              "21                                  Film  ...      HASS\n",
              "22                               Finance  ...  Business\n",
              "23                              Forestry  ...  Business\n",
              "24                             Geography  ...      HASS\n",
              "25                               Geology  ...      STEM\n",
              "26                        Graphic Design  ...      HASS\n",
              "27            Health Care Administration  ...  Business\n",
              "28                               History  ...      HASS\n",
              "29                 Hospitality & Tourism  ...  Business\n",
              "30                Industrial Engineering  ...      STEM\n",
              "31           Information Technology (IT)  ...      STEM\n",
              "32                       Interior Design  ...      HASS\n",
              "33               International Relations  ...      HASS\n",
              "34                            Journalism  ...      HASS\n",
              "35  Management Information Systems (MIS)  ...      STEM\n",
              "36                             Marketing  ...  Business\n",
              "37                                  Math  ...      STEM\n",
              "38                Mechanical Engineering  ...      STEM\n",
              "39                                 Music  ...      HASS\n",
              "40                               Nursing  ...  Business\n",
              "41                             Nutrition  ...      HASS\n",
              "42                            Philosophy  ...      HASS\n",
              "43                   Physician Assistant  ...      STEM\n",
              "44                               Physics  ...      STEM\n",
              "45                     Political Science  ...      HASS\n",
              "46                            Psychology  ...      HASS\n",
              "47                              Religion  ...      HASS\n",
              "48                             Sociology  ...      HASS\n",
              "49                               Spanish  ...      HASS\n",
              "\n",
              "[50 rows x 7 columns]"
            ],
            "text/html": "<div>\n<style scoped>\n    .dataframe tbody tr th:only-of-type {\n        vertical-align: middle;\n    }\n\n    .dataframe tbody tr th {\n        vertical-align: top;\n    }\n\n    .dataframe thead th {\n        text-align: right;\n    }\n</style>\n<table border=\"1\" class=\"dataframe\">\n  <thead>\n    <tr style=\"text-align: right;\">\n      <th></th>\n      <th>Undergraduate Major</th>\n      <th>Starting Median Salary</th>\n      <th>Mid-Career Median Salary</th>\n      <th>Mid-Career 10th Percentile Salary</th>\n      <th>Mid-Career 90th Percentile Salary</th>\n      <th>Spread</th>\n      <th>Group</th>\n    </tr>\n  </thead>\n  <tbody>\n    <tr>\n      <th>0</th>\n      <td>Accounting</td>\n      <td>46,000.00</td>\n      <td>77,100.00</td>\n      <td>42,200.00</td>\n      <td>152,000.00</td>\n      <td>109,800.00</td>\n      <td>Business</td>\n    </tr>\n    <tr>\n      <th>1</th>\n      <td>Aerospace Engineering</td>\n      <td>57,700.00</td>\n      <td>101,000.00</td>\n      <td>64,300.00</td>\n      <td>161,000.00</td>\n      <td>96,700.00</td>\n      <td>STEM</td>\n    </tr>\n    <tr>\n      <th>2</th>\n      <td>Agriculture</td>\n      <td>42,600.00</td>\n      <td>71,900.00</td>\n      <td>36,300.00</td>\n      <td>150,000.00</td>\n      <td>113,700.00</td>\n      <td>Business</td>\n    </tr>\n    <tr>\n      <th>3</th>\n      <td>Anthropology</td>\n      <td>36,800.00</td>\n      <td>61,500.00</td>\n      <td>33,800.00</td>\n      <td>138,000.00</td>\n      <td>104,200.00</td>\n      <td>HASS</td>\n    </tr>\n    <tr>\n      <th>4</th>\n      <td>Architecture</td>\n      <td>41,600.00</td>\n      <td>76,800.00</td>\n      <td>50,600.00</td>\n      <td>136,000.00</td>\n      <td>85,400.00</td>\n      <td>Business</td>\n    </tr>\n    <tr>\n      <th>5</th>\n      <td>Art History</td>\n      <td>35,800.00</td>\n      <td>64,900.00</td>\n      <td>28,800.00</td>\n      <td>125,000.00</td>\n      <td>96,200.00</td>\n      <td>HASS</td>\n    </tr>\n    <tr>\n      <th>6</th>\n      <td>Biology</td>\n      <td>38,800.00</td>\n      <td>64,800.00</td>\n      <td>36,900.00</td>\n      <td>135,000.00</td>\n      <td>98,100.00</td>\n      <td>STEM</td>\n    </tr>\n    <tr>\n      <th>7</th>\n      <td>Business Management</td>\n      <td>43,000.00</td>\n      <td>72,100.00</td>\n      <td>38,800.00</td>\n      <td>147,000.00</td>\n      <td>108,200.00</td>\n      <td>Business</td>\n    </tr>\n    <tr>\n      <th>8</th>\n      <td>Chemical Engineering</td>\n      <td>63,200.00</td>\n      <td>107,000.00</td>\n      <td>71,900.00</td>\n      <td>194,000.00</td>\n      <td>122,100.00</td>\n      <td>STEM</td>\n    </tr>\n    <tr>\n      <th>9</th>\n      <td>Chemistry</td>\n      <td>42,600.00</td>\n      <td>79,900.00</td>\n      <td>45,300.00</td>\n      <td>148,000.00</td>\n      <td>102,700.00</td>\n      <td>STEM</td>\n    </tr>\n    <tr>\n      <th>10</th>\n      <td>Civil Engineering</td>\n      <td>53,900.00</td>\n      <td>90,500.00</td>\n      <td>63,400.00</td>\n      <td>148,000.00</td>\n      <td>84,600.00</td>\n      <td>STEM</td>\n    </tr>\n    <tr>\n      <th>11</th>\n      <td>Communications</td>\n      <td>38,100.00</td>\n      <td>70,000.00</td>\n      <td>37,500.00</td>\n      <td>143,000.00</td>\n      <td>105,500.00</td>\n      <td>HASS</td>\n    </tr>\n    <tr>\n      <th>12</th>\n      <td>Computer Engineering</td>\n      <td>61,400.00</td>\n      <td>105,000.00</td>\n      <td>66,100.00</td>\n      <td>162,000.00</td>\n      <td>95,900.00</td>\n      <td>STEM</td>\n    </tr>\n    <tr>\n      <th>13</th>\n      <td>Computer Science</td>\n      <td>55,900.00</td>\n      <td>95,500.00</td>\n      <td>56,000.00</td>\n      <td>154,000.00</td>\n      <td>98,000.00</td>\n      <td>STEM</td>\n    </tr>\n    <tr>\n      <th>14</th>\n      <td>Construction</td>\n      <td>53,700.00</td>\n      <td>88,900.00</td>\n      <td>56,300.00</td>\n      <td>171,000.00</td>\n      <td>114,700.00</td>\n      <td>Business</td>\n    </tr>\n    <tr>\n      <th>15</th>\n      <td>Criminal Justice</td>\n      <td>35,000.00</td>\n      <td>56,300.00</td>\n      <td>32,200.00</td>\n      <td>107,000.00</td>\n      <td>74,800.00</td>\n      <td>HASS</td>\n    </tr>\n    <tr>\n      <th>16</th>\n      <td>Drama</td>\n      <td>35,900.00</td>\n      <td>56,900.00</td>\n      <td>36,700.00</td>\n      <td>153,000.00</td>\n      <td>116,300.00</td>\n      <td>HASS</td>\n    </tr>\n    <tr>\n      <th>17</th>\n      <td>Economics</td>\n      <td>50,100.00</td>\n      <td>98,600.00</td>\n      <td>50,600.00</td>\n      <td>210,000.00</td>\n      <td>159,400.00</td>\n      <td>Business</td>\n    </tr>\n    <tr>\n      <th>18</th>\n      <td>Education</td>\n      <td>34,900.00</td>\n      <td>52,000.00</td>\n      <td>29,300.00</td>\n      <td>102,000.00</td>\n      <td>72,700.00</td>\n      <td>HASS</td>\n    </tr>\n    <tr>\n      <th>19</th>\n      <td>Electrical Engineering</td>\n      <td>60,900.00</td>\n      <td>103,000.00</td>\n      <td>69,300.00</td>\n      <td>168,000.00</td>\n      <td>98,700.00</td>\n      <td>STEM</td>\n    </tr>\n    <tr>\n      <th>20</th>\n      <td>English</td>\n      <td>38,000.00</td>\n      <td>64,700.00</td>\n      <td>33,400.00</td>\n      <td>133,000.00</td>\n      <td>99,600.00</td>\n      <td>HASS</td>\n    </tr>\n    <tr>\n      <th>21</th>\n      <td>Film</td>\n      <td>37,900.00</td>\n      <td>68,500.00</td>\n      <td>33,900.00</td>\n      <td>136,000.00</td>\n      <td>102,100.00</td>\n      <td>HASS</td>\n    </tr>\n    <tr>\n      <th>22</th>\n      <td>Finance</td>\n      <td>47,900.00</td>\n      <td>88,300.00</td>\n      <td>47,200.00</td>\n      <td>195,000.00</td>\n      <td>147,800.00</td>\n      <td>Business</td>\n    </tr>\n    <tr>\n      <th>23</th>\n      <td>Forestry</td>\n      <td>39,100.00</td>\n      <td>62,600.00</td>\n      <td>41,000.00</td>\n      <td>111,000.00</td>\n      <td>70,000.00</td>\n      <td>Business</td>\n    </tr>\n    <tr>\n      <th>24</th>\n      <td>Geography</td>\n      <td>41,200.00</td>\n      <td>65,500.00</td>\n      <td>40,000.00</td>\n      <td>132,000.00</td>\n      <td>92,000.00</td>\n      <td>HASS</td>\n    </tr>\n    <tr>\n      <th>25</th>\n      <td>Geology</td>\n      <td>43,500.00</td>\n      <td>79,500.00</td>\n      <td>45,000.00</td>\n      <td>156,000.00</td>\n      <td>111,000.00</td>\n      <td>STEM</td>\n    </tr>\n    <tr>\n      <th>26</th>\n      <td>Graphic Design</td>\n      <td>35,700.00</td>\n      <td>59,800.00</td>\n      <td>36,000.00</td>\n      <td>112,000.00</td>\n      <td>76,000.00</td>\n      <td>HASS</td>\n    </tr>\n    <tr>\n      <th>27</th>\n      <td>Health Care Administration</td>\n      <td>38,800.00</td>\n      <td>60,600.00</td>\n      <td>34,600.00</td>\n      <td>101,000.00</td>\n      <td>66,400.00</td>\n      <td>Business</td>\n    </tr>\n    <tr>\n      <th>28</th>\n      <td>History</td>\n      <td>39,200.00</td>\n      <td>71,000.00</td>\n      <td>37,000.00</td>\n      <td>149,000.00</td>\n      <td>112,000.00</td>\n      <td>HASS</td>\n    </tr>\n    <tr>\n      <th>29</th>\n      <td>Hospitality &amp; Tourism</td>\n      <td>37,800.00</td>\n      <td>57,500.00</td>\n      <td>35,500.00</td>\n      <td>124,000.00</td>\n      <td>88,500.00</td>\n      <td>Business</td>\n    </tr>\n    <tr>\n      <th>30</th>\n      <td>Industrial Engineering</td>\n      <td>57,700.00</td>\n      <td>94,700.00</td>\n      <td>57,100.00</td>\n      <td>173,000.00</td>\n      <td>115,900.00</td>\n      <td>STEM</td>\n    </tr>\n    <tr>\n      <th>31</th>\n      <td>Information Technology (IT)</td>\n      <td>49,100.00</td>\n      <td>74,800.00</td>\n      <td>44,500.00</td>\n      <td>129,000.00</td>\n      <td>84,500.00</td>\n      <td>STEM</td>\n    </tr>\n    <tr>\n      <th>32</th>\n      <td>Interior Design</td>\n      <td>36,100.00</td>\n      <td>53,200.00</td>\n      <td>35,700.00</td>\n      <td>107,000.00</td>\n      <td>71,300.00</td>\n      <td>HASS</td>\n    </tr>\n    <tr>\n      <th>33</th>\n      <td>International Relations</td>\n      <td>40,900.00</td>\n      <td>80,900.00</td>\n      <td>38,200.00</td>\n      <td>157,000.00</td>\n      <td>118,800.00</td>\n      <td>HASS</td>\n    </tr>\n    <tr>\n      <th>34</th>\n      <td>Journalism</td>\n      <td>35,600.00</td>\n      <td>66,700.00</td>\n      <td>38,400.00</td>\n      <td>145,000.00</td>\n      <td>106,600.00</td>\n      <td>HASS</td>\n    </tr>\n    <tr>\n      <th>35</th>\n      <td>Management Information Systems (MIS)</td>\n      <td>49,200.00</td>\n      <td>82,300.00</td>\n      <td>45,300.00</td>\n      <td>146,000.00</td>\n      <td>100,700.00</td>\n      <td>STEM</td>\n    </tr>\n    <tr>\n      <th>36</th>\n      <td>Marketing</td>\n      <td>40,800.00</td>\n      <td>79,600.00</td>\n      <td>42,100.00</td>\n      <td>175,000.00</td>\n      <td>132,900.00</td>\n      <td>Business</td>\n    </tr>\n    <tr>\n      <th>37</th>\n      <td>Math</td>\n      <td>45,400.00</td>\n      <td>92,400.00</td>\n      <td>45,200.00</td>\n      <td>183,000.00</td>\n      <td>137,800.00</td>\n      <td>STEM</td>\n    </tr>\n    <tr>\n      <th>38</th>\n      <td>Mechanical Engineering</td>\n      <td>57,900.00</td>\n      <td>93,600.00</td>\n      <td>63,700.00</td>\n      <td>163,000.00</td>\n      <td>99,300.00</td>\n      <td>STEM</td>\n    </tr>\n    <tr>\n      <th>39</th>\n      <td>Music</td>\n      <td>35,900.00</td>\n      <td>55,000.00</td>\n      <td>26,700.00</td>\n      <td>134,000.00</td>\n      <td>107,300.00</td>\n      <td>HASS</td>\n    </tr>\n    <tr>\n      <th>40</th>\n      <td>Nursing</td>\n      <td>54,200.00</td>\n      <td>67,000.00</td>\n      <td>47,600.00</td>\n      <td>98,300.00</td>\n      <td>50,700.00</td>\n      <td>Business</td>\n    </tr>\n    <tr>\n      <th>41</th>\n      <td>Nutrition</td>\n      <td>39,900.00</td>\n      <td>55,300.00</td>\n      <td>33,900.00</td>\n      <td>99,200.00</td>\n      <td>65,300.00</td>\n      <td>HASS</td>\n    </tr>\n    <tr>\n      <th>42</th>\n      <td>Philosophy</td>\n      <td>39,900.00</td>\n      <td>81,200.00</td>\n      <td>35,500.00</td>\n      <td>168,000.00</td>\n      <td>132,500.00</td>\n      <td>HASS</td>\n    </tr>\n    <tr>\n      <th>43</th>\n      <td>Physician Assistant</td>\n      <td>74,300.00</td>\n      <td>91,700.00</td>\n      <td>66,400.00</td>\n      <td>124,000.00</td>\n      <td>57,600.00</td>\n      <td>STEM</td>\n    </tr>\n    <tr>\n      <th>44</th>\n      <td>Physics</td>\n      <td>50,300.00</td>\n      <td>97,300.00</td>\n      <td>56,000.00</td>\n      <td>178,000.00</td>\n      <td>122,000.00</td>\n      <td>STEM</td>\n    </tr>\n    <tr>\n      <th>45</th>\n      <td>Political Science</td>\n      <td>40,800.00</td>\n      <td>78,200.00</td>\n      <td>41,200.00</td>\n      <td>168,000.00</td>\n      <td>126,800.00</td>\n      <td>HASS</td>\n    </tr>\n    <tr>\n      <th>46</th>\n      <td>Psychology</td>\n      <td>35,900.00</td>\n      <td>60,400.00</td>\n      <td>31,600.00</td>\n      <td>127,000.00</td>\n      <td>95,400.00</td>\n      <td>HASS</td>\n    </tr>\n    <tr>\n      <th>47</th>\n      <td>Religion</td>\n      <td>34,100.00</td>\n      <td>52,000.00</td>\n      <td>29,700.00</td>\n      <td>96,400.00</td>\n      <td>66,700.00</td>\n      <td>HASS</td>\n    </tr>\n    <tr>\n      <th>48</th>\n      <td>Sociology</td>\n      <td>36,500.00</td>\n      <td>58,200.00</td>\n      <td>30,700.00</td>\n      <td>118,000.00</td>\n      <td>87,300.00</td>\n      <td>HASS</td>\n    </tr>\n    <tr>\n      <th>49</th>\n      <td>Spanish</td>\n      <td>34,000.00</td>\n      <td>53,100.00</td>\n      <td>31,000.00</td>\n      <td>96,400.00</td>\n      <td>65,400.00</td>\n      <td>HASS</td>\n    </tr>\n  </tbody>\n</table>\n</div>"
          },
          "metadata": {},
          "execution_count": 56
        }
      ],
      "source": [
        "clean_df"
      ]
    },
    {
      "cell_type": "code",
      "execution_count": 57,
      "metadata": {},
      "outputs": [
        {
          "output_type": "execute_result",
          "data": {
            "text/plain": [
              "           Undergraduate Major    Spread\n",
              "40                     Nursing 50,700.00\n",
              "43         Physician Assistant 57,600.00\n",
              "41                   Nutrition 65,300.00\n",
              "49                     Spanish 65,400.00\n",
              "27  Health Care Administration 66,400.00"
            ],
            "text/html": "<div>\n<style scoped>\n    .dataframe tbody tr th:only-of-type {\n        vertical-align: middle;\n    }\n\n    .dataframe tbody tr th {\n        vertical-align: top;\n    }\n\n    .dataframe thead th {\n        text-align: right;\n    }\n</style>\n<table border=\"1\" class=\"dataframe\">\n  <thead>\n    <tr style=\"text-align: right;\">\n      <th></th>\n      <th>Undergraduate Major</th>\n      <th>Spread</th>\n    </tr>\n  </thead>\n  <tbody>\n    <tr>\n      <th>40</th>\n      <td>Nursing</td>\n      <td>50,700.00</td>\n    </tr>\n    <tr>\n      <th>43</th>\n      <td>Physician Assistant</td>\n      <td>57,600.00</td>\n    </tr>\n    <tr>\n      <th>41</th>\n      <td>Nutrition</td>\n      <td>65,300.00</td>\n    </tr>\n    <tr>\n      <th>49</th>\n      <td>Spanish</td>\n      <td>65,400.00</td>\n    </tr>\n    <tr>\n      <th>27</th>\n      <td>Health Care Administration</td>\n      <td>66,400.00</td>\n    </tr>\n  </tbody>\n</table>\n</div>"
          },
          "metadata": {},
          "execution_count": 57
        }
      ],
      "source": [
        "low_risk = clean_df.sort_values(\"Spread\", ascending=True)\n",
        "low_risk[['Undergraduate Major', 'Spread']].head()"
      ]
    },
    {
      "cell_type": "code",
      "execution_count": 58,
      "metadata": {},
      "outputs": [
        {
          "output_type": "execute_result",
          "data": {
            "text/plain": [
              "     Undergraduate Major  Mid-Career 90th Percentile Salary\n",
              "17             Economics                         210,000.00\n",
              "22               Finance                         195,000.00\n",
              "8   Chemical Engineering                         194,000.00\n",
              "37                  Math                         183,000.00\n",
              "44               Physics                         178,000.00"
            ],
            "text/html": "<div>\n<style scoped>\n    .dataframe tbody tr th:only-of-type {\n        vertical-align: middle;\n    }\n\n    .dataframe tbody tr th {\n        vertical-align: top;\n    }\n\n    .dataframe thead th {\n        text-align: right;\n    }\n</style>\n<table border=\"1\" class=\"dataframe\">\n  <thead>\n    <tr style=\"text-align: right;\">\n      <th></th>\n      <th>Undergraduate Major</th>\n      <th>Mid-Career 90th Percentile Salary</th>\n    </tr>\n  </thead>\n  <tbody>\n    <tr>\n      <th>17</th>\n      <td>Economics</td>\n      <td>210,000.00</td>\n    </tr>\n    <tr>\n      <th>22</th>\n      <td>Finance</td>\n      <td>195,000.00</td>\n    </tr>\n    <tr>\n      <th>8</th>\n      <td>Chemical Engineering</td>\n      <td>194,000.00</td>\n    </tr>\n    <tr>\n      <th>37</th>\n      <td>Math</td>\n      <td>183,000.00</td>\n    </tr>\n    <tr>\n      <th>44</th>\n      <td>Physics</td>\n      <td>178,000.00</td>\n    </tr>\n  </tbody>\n</table>\n</div>"
          },
          "metadata": {},
          "execution_count": 58
        }
      ],
      "source": [
        "high_90th = clean_df.sort_values(\"Mid-Career 90th Percentile Salary\", ascending=False)\n",
        "high_90th[[\"Undergraduate Major\", \"Mid-Career 90th Percentile Salary\"]].head()"
      ]
    },
    {
      "cell_type": "code",
      "execution_count": 59,
      "metadata": {},
      "outputs": [
        {
          "output_type": "execute_result",
          "data": {
            "text/plain": [
              "   Undergraduate Major     Spread\n",
              "17           Economics 159,400.00\n",
              "22             Finance 147,800.00\n",
              "37                Math 137,800.00\n",
              "36           Marketing 132,900.00\n",
              "42          Philosophy 132,500.00"
            ],
            "text/html": "<div>\n<style scoped>\n    .dataframe tbody tr th:only-of-type {\n        vertical-align: middle;\n    }\n\n    .dataframe tbody tr th {\n        vertical-align: top;\n    }\n\n    .dataframe thead th {\n        text-align: right;\n    }\n</style>\n<table border=\"1\" class=\"dataframe\">\n  <thead>\n    <tr style=\"text-align: right;\">\n      <th></th>\n      <th>Undergraduate Major</th>\n      <th>Spread</th>\n    </tr>\n  </thead>\n  <tbody>\n    <tr>\n      <th>17</th>\n      <td>Economics</td>\n      <td>159,400.00</td>\n    </tr>\n    <tr>\n      <th>22</th>\n      <td>Finance</td>\n      <td>147,800.00</td>\n    </tr>\n    <tr>\n      <th>37</th>\n      <td>Math</td>\n      <td>137,800.00</td>\n    </tr>\n    <tr>\n      <th>36</th>\n      <td>Marketing</td>\n      <td>132,900.00</td>\n    </tr>\n    <tr>\n      <th>42</th>\n      <td>Philosophy</td>\n      <td>132,500.00</td>\n    </tr>\n  </tbody>\n</table>\n</div>"
          },
          "metadata": {},
          "execution_count": 59
        }
      ],
      "source": [
        "high_risk = clean_df.sort_values(\"Spread\", ascending=False)\n",
        "high_risk[['Undergraduate Major', 'Spread']].head()"
      ]
    },
    {
      "cell_type": "code",
      "execution_count": 61,
      "metadata": {},
      "outputs": [
        {
          "output_type": "execute_result",
          "data": {
            "text/plain": [
              "          Starting Median Salary  ...     Spread\n",
              "Group                             ...           \n",
              "Business               44,633.33  ... 103,958.33\n",
              "HASS                   37,186.36  ...  95,218.18\n",
              "STEM                   53,862.50  ... 101,600.00\n",
              "\n",
              "[3 rows x 5 columns]"
            ],
            "text/html": "<div>\n<style scoped>\n    .dataframe tbody tr th:only-of-type {\n        vertical-align: middle;\n    }\n\n    .dataframe tbody tr th {\n        vertical-align: top;\n    }\n\n    .dataframe thead th {\n        text-align: right;\n    }\n</style>\n<table border=\"1\" class=\"dataframe\">\n  <thead>\n    <tr style=\"text-align: right;\">\n      <th></th>\n      <th>Starting Median Salary</th>\n      <th>Mid-Career Median Salary</th>\n      <th>Mid-Career 10th Percentile Salary</th>\n      <th>Mid-Career 90th Percentile Salary</th>\n      <th>Spread</th>\n    </tr>\n    <tr>\n      <th>Group</th>\n      <th></th>\n      <th></th>\n      <th></th>\n      <th></th>\n      <th></th>\n    </tr>\n  </thead>\n  <tbody>\n    <tr>\n      <th>Business</th>\n      <td>44,633.33</td>\n      <td>75,083.33</td>\n      <td>43,566.67</td>\n      <td>147,525.00</td>\n      <td>103,958.33</td>\n    </tr>\n    <tr>\n      <th>HASS</th>\n      <td>37,186.36</td>\n      <td>62,968.18</td>\n      <td>34,145.45</td>\n      <td>129,363.64</td>\n      <td>95,218.18</td>\n    </tr>\n    <tr>\n      <th>STEM</th>\n      <td>53,862.50</td>\n      <td>90,812.50</td>\n      <td>56,025.00</td>\n      <td>157,625.00</td>\n      <td>101,600.00</td>\n    </tr>\n  </tbody>\n</table>\n</div>"
          },
          "metadata": {},
          "execution_count": 61
        }
      ],
      "source": [
        "clean_df.groupby(\"Group\").mean()"
      ]
    },
    {
      "cell_type": "code",
      "execution_count": null,
      "metadata": {},
      "outputs": [],
      "source": []
    }
  ]
}