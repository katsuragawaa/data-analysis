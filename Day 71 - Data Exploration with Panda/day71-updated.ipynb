{
 "metadata": {
  "language_info": {
   "codemirror_mode": {
    "name": "ipython",
    "version": 3
   },
   "file_extension": ".py",
   "mimetype": "text/x-python",
   "name": "python",
   "nbconvert_exporter": "python",
   "pygments_lexer": "ipython3",
   "version": "3.9.2-final"
  },
  "orig_nbformat": 2,
  "kernelspec": {
   "name": "python392jvsc74a57bd03a9edd13b93a0a6001a46ff4bca41b82a1c60c6e4594171524144e91a0afb816",
   "display_name": "Python 3.9.2 64-bit"
  },
  "metadata": {
   "interpreter": {
    "hash": "3a9edd13b93a0a6001a46ff4bca41b82a1c60c6e4594171524144e91a0afb816"
   }
  }
 },
 "nbformat": 4,
 "nbformat_minor": 2,
 "cells": [
  {
   "cell_type": "code",
   "execution_count": 5,
   "metadata": {},
   "outputs": [
    {
     "output_type": "execute_result",
     "data": {
      "text/plain": [
       "    Rank                                              Major Degree Type  \\\n",
       "0      1                              Petroleum Engineering   Bachelors   \n",
       "1      2   Electrical Engineering & Computer Science (EECS)   Bachelors   \n",
       "2      3                   Applied Economics and Management   Bachelors   \n",
       "3      3                                Operations Research   Bachelors   \n",
       "4      5                                  Public Accounting   Bachelors   \n",
       "5      6  Chemical Engineering/Materials Science & Engin...   Bachelors   \n",
       "6      7                     Quantitative Business Analysis   Bachelors   \n",
       "7      8                                           Pharmacy   Bachelors   \n",
       "8      9                         Aeronautics & Astronautics   Bachelors   \n",
       "9     10                                Systems Engineering   Bachelors   \n",
       "10    11                       Electrical Power Engineering   Bachelors   \n",
       "11    12                              Actuarial Mathematics   Bachelors   \n",
       "12    13                                  Aerospace Studies   Bachelors   \n",
       "13    14                               Chemical Engineering   Bachelors   \n",
       "14    15                                  Actuarial Science   Bachelors   \n",
       "15    16                     Information & Computer Science   Bachelors   \n",
       "16    17                           Aeronautical Engineering   Bachelors   \n",
       "17    18        Operations & Information Systems Management   Bachelors   \n",
       "18    18                                  Political Economy   Bachelors   \n",
       "19    20                                 Marine Engineering   Bachelors   \n",
       "20    21                       Computer Systems Engineering   Bachelors   \n",
       "21    22                                Nuclear Engineering   Bachelors   \n",
       "22    23                Computer Science (CS) & Engineering   Bachelors   \n",
       "23    24                     Corporate Accounting & Finance   Bachelors   \n",
       "24    25            Electrical & Computer Engineering (ECE)   Bachelors   \n",
       "\n",
       "   Early Career Pay Mid-Career Pay % High Meaning  \n",
       "0           $92,300       $182,000            69%  \n",
       "1          $101,200       $152,300            46%  \n",
       "2           $60,900       $139,600            67%  \n",
       "3           $78,400       $139,600            52%  \n",
       "4           $60,000       $138,800            49%  \n",
       "5           $74,500       $137,800            60%  \n",
       "6           $67,900       $136,200            55%  \n",
       "7           $66,300       $133,200            79%  \n",
       "8           $74,000       $133,100            60%  \n",
       "9           $74,000       $132,900            54%  \n",
       "10          $73,100       $130,700            67%  \n",
       "11          $61,900       $130,500            50%  \n",
       "12          $50,300       $130,300              -  \n",
       "13          $73,500       $128,900            56%  \n",
       "14          $64,700       $128,700            42%  \n",
       "15          $70,300       $127,600            60%  \n",
       "16          $71,600       $125,900            64%  \n",
       "17          $63,800       $125,100            31%  \n",
       "18          $58,200       $125,100            34%  \n",
       "19          $74,700       $125,000            64%  \n",
       "20          $74,600       $124,800            49%  \n",
       "21          $73,100       $124,500            63%  \n",
       "22          $74,000       $124,000            44%  \n",
       "23          $61,200       $123,600            57%  \n",
       "24          $73,900       $123,300            49%  "
      ],
      "text/html": "<div>\n<style scoped>\n    .dataframe tbody tr th:only-of-type {\n        vertical-align: middle;\n    }\n\n    .dataframe tbody tr th {\n        vertical-align: top;\n    }\n\n    .dataframe thead th {\n        text-align: right;\n    }\n</style>\n<table border=\"1\" class=\"dataframe\">\n  <thead>\n    <tr style=\"text-align: right;\">\n      <th></th>\n      <th>Rank</th>\n      <th>Major</th>\n      <th>Degree Type</th>\n      <th>Early Career Pay</th>\n      <th>Mid-Career Pay</th>\n      <th>% High Meaning</th>\n    </tr>\n  </thead>\n  <tbody>\n    <tr>\n      <th>0</th>\n      <td>1</td>\n      <td>Petroleum Engineering</td>\n      <td>Bachelors</td>\n      <td>$92,300</td>\n      <td>$182,000</td>\n      <td>69%</td>\n    </tr>\n    <tr>\n      <th>1</th>\n      <td>2</td>\n      <td>Electrical Engineering &amp; Computer Science (EECS)</td>\n      <td>Bachelors</td>\n      <td>$101,200</td>\n      <td>$152,300</td>\n      <td>46%</td>\n    </tr>\n    <tr>\n      <th>2</th>\n      <td>3</td>\n      <td>Applied Economics and Management</td>\n      <td>Bachelors</td>\n      <td>$60,900</td>\n      <td>$139,600</td>\n      <td>67%</td>\n    </tr>\n    <tr>\n      <th>3</th>\n      <td>3</td>\n      <td>Operations Research</td>\n      <td>Bachelors</td>\n      <td>$78,400</td>\n      <td>$139,600</td>\n      <td>52%</td>\n    </tr>\n    <tr>\n      <th>4</th>\n      <td>5</td>\n      <td>Public Accounting</td>\n      <td>Bachelors</td>\n      <td>$60,000</td>\n      <td>$138,800</td>\n      <td>49%</td>\n    </tr>\n    <tr>\n      <th>5</th>\n      <td>6</td>\n      <td>Chemical Engineering/Materials Science &amp; Engin...</td>\n      <td>Bachelors</td>\n      <td>$74,500</td>\n      <td>$137,800</td>\n      <td>60%</td>\n    </tr>\n    <tr>\n      <th>6</th>\n      <td>7</td>\n      <td>Quantitative Business Analysis</td>\n      <td>Bachelors</td>\n      <td>$67,900</td>\n      <td>$136,200</td>\n      <td>55%</td>\n    </tr>\n    <tr>\n      <th>7</th>\n      <td>8</td>\n      <td>Pharmacy</td>\n      <td>Bachelors</td>\n      <td>$66,300</td>\n      <td>$133,200</td>\n      <td>79%</td>\n    </tr>\n    <tr>\n      <th>8</th>\n      <td>9</td>\n      <td>Aeronautics &amp; Astronautics</td>\n      <td>Bachelors</td>\n      <td>$74,000</td>\n      <td>$133,100</td>\n      <td>60%</td>\n    </tr>\n    <tr>\n      <th>9</th>\n      <td>10</td>\n      <td>Systems Engineering</td>\n      <td>Bachelors</td>\n      <td>$74,000</td>\n      <td>$132,900</td>\n      <td>54%</td>\n    </tr>\n    <tr>\n      <th>10</th>\n      <td>11</td>\n      <td>Electrical Power Engineering</td>\n      <td>Bachelors</td>\n      <td>$73,100</td>\n      <td>$130,700</td>\n      <td>67%</td>\n    </tr>\n    <tr>\n      <th>11</th>\n      <td>12</td>\n      <td>Actuarial Mathematics</td>\n      <td>Bachelors</td>\n      <td>$61,900</td>\n      <td>$130,500</td>\n      <td>50%</td>\n    </tr>\n    <tr>\n      <th>12</th>\n      <td>13</td>\n      <td>Aerospace Studies</td>\n      <td>Bachelors</td>\n      <td>$50,300</td>\n      <td>$130,300</td>\n      <td>-</td>\n    </tr>\n    <tr>\n      <th>13</th>\n      <td>14</td>\n      <td>Chemical Engineering</td>\n      <td>Bachelors</td>\n      <td>$73,500</td>\n      <td>$128,900</td>\n      <td>56%</td>\n    </tr>\n    <tr>\n      <th>14</th>\n      <td>15</td>\n      <td>Actuarial Science</td>\n      <td>Bachelors</td>\n      <td>$64,700</td>\n      <td>$128,700</td>\n      <td>42%</td>\n    </tr>\n    <tr>\n      <th>15</th>\n      <td>16</td>\n      <td>Information &amp; Computer Science</td>\n      <td>Bachelors</td>\n      <td>$70,300</td>\n      <td>$127,600</td>\n      <td>60%</td>\n    </tr>\n    <tr>\n      <th>16</th>\n      <td>17</td>\n      <td>Aeronautical Engineering</td>\n      <td>Bachelors</td>\n      <td>$71,600</td>\n      <td>$125,900</td>\n      <td>64%</td>\n    </tr>\n    <tr>\n      <th>17</th>\n      <td>18</td>\n      <td>Operations &amp; Information Systems Management</td>\n      <td>Bachelors</td>\n      <td>$63,800</td>\n      <td>$125,100</td>\n      <td>31%</td>\n    </tr>\n    <tr>\n      <th>18</th>\n      <td>18</td>\n      <td>Political Economy</td>\n      <td>Bachelors</td>\n      <td>$58,200</td>\n      <td>$125,100</td>\n      <td>34%</td>\n    </tr>\n    <tr>\n      <th>19</th>\n      <td>20</td>\n      <td>Marine Engineering</td>\n      <td>Bachelors</td>\n      <td>$74,700</td>\n      <td>$125,000</td>\n      <td>64%</td>\n    </tr>\n    <tr>\n      <th>20</th>\n      <td>21</td>\n      <td>Computer Systems Engineering</td>\n      <td>Bachelors</td>\n      <td>$74,600</td>\n      <td>$124,800</td>\n      <td>49%</td>\n    </tr>\n    <tr>\n      <th>21</th>\n      <td>22</td>\n      <td>Nuclear Engineering</td>\n      <td>Bachelors</td>\n      <td>$73,100</td>\n      <td>$124,500</td>\n      <td>63%</td>\n    </tr>\n    <tr>\n      <th>22</th>\n      <td>23</td>\n      <td>Computer Science (CS) &amp; Engineering</td>\n      <td>Bachelors</td>\n      <td>$74,000</td>\n      <td>$124,000</td>\n      <td>44%</td>\n    </tr>\n    <tr>\n      <th>23</th>\n      <td>24</td>\n      <td>Corporate Accounting &amp; Finance</td>\n      <td>Bachelors</td>\n      <td>$61,200</td>\n      <td>$123,600</td>\n      <td>57%</td>\n    </tr>\n    <tr>\n      <th>24</th>\n      <td>25</td>\n      <td>Electrical &amp; Computer Engineering (ECE)</td>\n      <td>Bachelors</td>\n      <td>$73,900</td>\n      <td>$123,300</td>\n      <td>49%</td>\n    </tr>\n  </tbody>\n</table>\n</div>"
     },
     "metadata": {},
     "execution_count": 5
    }
   ],
   "source": [
    "import pandas as pd\n",
    "\n",
    "df = pd.read_csv('updated-salary.csv')\n",
    "pd.options.display.float_format = '{:,.2f}'.format\n",
    "df"
   ]
  },
  {
   "cell_type": "code",
   "execution_count": null,
   "metadata": {},
   "outputs": [],
   "source": []
  }
 ]
}